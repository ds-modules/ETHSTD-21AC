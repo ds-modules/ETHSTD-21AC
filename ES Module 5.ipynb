{
 "cells": [
  {
   "cell_type": "markdown",
   "metadata": {},
   "source": [
    "# Module 5"
   ]
  },
  {
   "cell_type": "markdown",
   "metadata": {},
   "source": [
    "Welcome back! As a reminder, last week we went over some more filtering and some basics about visualization. Today, we'll be reviewing the visualizations we went over last time, then going over another form of visualization: the histogram. \n",
    "\n",
    "Again, please work with a partner for this module.\n",
    "\n",
    "Before starting, run the cell below:"
   ]
  },
  {
   "cell_type": "code",
   "execution_count": null,
   "metadata": {
    "collapsed": true
   },
   "outputs": [],
   "source": [
    "from datascience import *\n",
    "import numpy as np\n",
    "# These lines set up graphing capabilities.\n",
    "import matplotlib\n",
    "%matplotlib inline\n",
    "import matplotlib.pyplot as plt\n",
    "plt.style.use('fivethirtyeight')\n",
    "import warnings\n",
    "warnings.simplefilter('ignore', FutureWarning)"
   ]
  },
  {
   "cell_type": "markdown",
   "metadata": {},
   "source": [
    "## Scatter Plots"
   ]
  },
  {
   "cell_type": "markdown",
   "metadata": {},
   "source": [
    "Scatter plots are graphs that help us visualize associations between two *numerical* variables. \n",
    "\n",
    "For example, say we wanted to see if there's an association between the number of inmates and the number of supervised adults in correctional facilities. We could use a scatter plot as follows."
   ]
  },
  {
   "cell_type": "code",
   "execution_count": null,
   "metadata": {
    "collapsed": false
   },
   "outputs": [],
   "source": [
    "inmates_correctional = Table.read_table('inmates_correctional.csv')\n",
    "inmates_correctional = inmates_correctional.drop('Year') #dropping the year column, we don't want this in our plot\n",
    "\n",
    "inmates_correctional.scatter('Number of Supervised Adults')"
   ]
  },
  {
   "cell_type": "markdown",
   "metadata": {},
   "source": [
    "In the above chart, notice a few things:\n",
    "1. Both of our axes were made up of numerical variables (we're dealing with numbers on both axes). Scatter plots are most powerful when we're using numbers. \n",
    "2. In our scatter command, we only needed to specify the variable we wanted on the x-axis. Python automatically filled out the y-axis based on our data table. \n",
    "3. As the number of supervised adults increase, so do the number of inmates (for the most part). In this case, we'd say that there is a positive association between the two. Below is a handy graphic that helps you visualize what associations look like. \n",
    "\n",
    "![Correlations](https://s-media-cache-ak0.pinimg.com/originals/7e/3e/d1/7e3ed1517ba2884bf4e7a3d9cd5af8a8.jpg)"
   ]
  },
  {
   "cell_type": "markdown",
   "metadata": {},
   "source": [
    "Now, try it for yourself! \n",
    "\n",
    "Load the data table called `ca_naturalization.csv` and save it as a variable. Then, make a scatter plot of the number of naturalized people in California on the x-axis and the number of total naturalized people in the US on the y-axis. \n",
    "\n",
    "Remember, here is the syntax for creating a scatter plot: \n",
    "\n",
    "`table_name.scatter('x-axis_variable')` "
   ]
  },
  {
   "cell_type": "code",
   "execution_count": null,
   "metadata": {
    "collapsed": false
   },
   "outputs": [],
   "source": [
    "ca_naturalization = Table.read_table('ca_naturalization.csv')\n",
    "ca_naturalization.scatter('Total Number of Naturalized People in California')"
   ]
  },
  {
   "cell_type": "markdown",
   "metadata": {},
   "source": [
    "Now, if you did this without dropping the year column, you may have noticed that you have two different colored dots on your scatter plot. This is what happens when we have multiple numerical variables in our data table (in this case, we had `Year` and `Total Number of Naturalized People in US`. \n",
    "\n",
    "If you just want to plot one of these variables, you need to remove the other column from your data table. We can do that using the `drop` method. Here is the syntax for `drop`:\n",
    "\n",
    "`table_name.drop('column_name')`\n",
    "\n",
    "Once you drop the `Year` column from your data table, you should be able to create a plot that only focuses on one other variable."
   ]
  },
  {
   "cell_type": "code",
   "execution_count": null,
   "metadata": {
    "collapsed": false
   },
   "outputs": [],
   "source": [
    "ca_naturalization.drop('Year').scatter('Total Number of Naturalized People in California')"
   ]
  },
  {
   "cell_type": "markdown",
   "metadata": {},
   "source": [
    "Now, let's use this graph to make some conclusions about our data. Answer the following questions in the cell below: \n",
    "1. What is this graph helping us visualize? \n",
    "2. Is there a positive, negative, or no correlation between our two variables?\n",
    "3. We notice that there's a dip in our graph- it goes up at the beginning, then drops significantly. What could've caused this? Feel free to examine the data table to answer this question.\n",
    "4. What information are we losing in creating such a graph? \n",
    "5. How could we have chosen our x-axis better so we got more information out of this graph?"
   ]
  },
  {
   "cell_type": "markdown",
   "metadata": {},
   "source": [
    "Answers: \n",
    "1. \n",
    "2. \n",
    "3. \n",
    "4. \n",
    "5. "
   ]
  },
  {
   "cell_type": "markdown",
   "metadata": {},
   "source": [
    "## Line Graphs"
   ]
  },
  {
   "cell_type": "markdown",
   "metadata": {},
   "source": [
    "Now, we'll be covering line graphs. Line graphs are also used on numerical data, and in a lot of ways, they're very similar to scatter plots. What sets the two apart is that line graphs help us visualize change while scatter plots help us visualize association."
   ]
  },
  {
   "cell_type": "markdown",
   "metadata": {},
   "source": [
    "Here's what a line graph on the same data (with the same axes) would look like:"
   ]
  },
  {
   "cell_type": "code",
   "execution_count": null,
   "metadata": {
    "collapsed": false
   },
   "outputs": [],
   "source": [
    "ca_naturalization_line = Table.read_table('ca_naturalization.csv')\n",
    "ca_naturalization_line.drop('Year').plot('Total Number of Naturalized People in California')"
   ]
  },
  {
   "cell_type": "markdown",
   "metadata": {},
   "source": [
    "Now, answer the following question about this visualization:\n",
    "How does this visualization differ from the scatter plot visualization? In what ways is it stronger? In what ways is it weaker?"
   ]
  },
  {
   "cell_type": "markdown",
   "metadata": {},
   "source": [
    "Answer: "
   ]
  },
  {
   "cell_type": "markdown",
   "metadata": {},
   "source": [
    "Now, say we wanted to visualize the change over time in naturalization numbers. In the cell below, create a plot that puts the year on the x-axis. \n",
    "\n",
    "Here's the syntax for line graphs:\n",
    "\n",
    "`table_name.plot('x-axis_variable')`"
   ]
  },
  {
   "cell_type": "code",
   "execution_count": null,
   "metadata": {
    "collapsed": false
   },
   "outputs": [],
   "source": [
    "ca_naturalization_line.plot('Year')"
   ]
  },
  {
   "cell_type": "markdown",
   "metadata": {},
   "source": [
    "Again, we see that when we don't tell Python which data to use for the y-axis, it'll use all numerical variables it can find. In this case, this creates a pretty powerful visualization that shows us the trends and changes in both variables over time.\n",
    "\n",
    "In the cell below, answer the following questions:\n",
    "1. How did the number of naturalized people in the US change over time?\n",
    "2. Does the pattern in California's naturalization follow that of the US?"
   ]
  },
  {
   "cell_type": "markdown",
   "metadata": {},
   "source": [
    "Answers: \n",
    "1. \n",
    "2. "
   ]
  },
  {
   "cell_type": "markdown",
   "metadata": {},
   "source": [
    "Now, what if we wanted to just see trends for the total number of naturalized people in the US? Using the same method as you did for scatter plots, create a plot that only visualizes the total number of naturalized people in the US."
   ]
  },
  {
   "cell_type": "code",
   "execution_count": null,
   "metadata": {
    "collapsed": false
   },
   "outputs": [],
   "source": [
    "ca_naturalization_line.drop('Total Number of Naturalized People in California').plot('Year')"
   ]
  },
  {
   "cell_type": "markdown",
   "metadata": {},
   "source": [
    "## Bar Charts"
   ]
  },
  {
   "cell_type": "markdown",
   "metadata": {},
   "source": [
    "Now, we're going to shift our focus to categorical distributions. Bar charts help us visualize categorical data. For example, say we wanted to visualize the number of people visualized by state in 2015. Run the cell below to see what the plot for that data would look like:"
   ]
  },
  {
   "cell_type": "code",
   "execution_count": null,
   "metadata": {
    "collapsed": false
   },
   "outputs": [],
   "source": [
    "naturalizations_by_state = Table.read_table('naturalizations_by_state.csv')\n",
    "naturalizations_by_state.sort('Naturalizations in 2015', descending = True).barh('State or territory of residence', 'Naturalizations in 2015')"
   ]
  },
  {
   "cell_type": "markdown",
   "metadata": {},
   "source": [
    "Now, we'll make our own bar charts!\n",
    "\n",
    "In the following cell, load the data table `naturalizations_by_region.csv` and make a bar chart of the number of naturalized people per region in 2015. Here is the syntax for creating bar charts:\n",
    "\n",
    "`table_name.barh('categorical_variable_name', 'numerical_variable_name')`\n",
    "\n",
    "Note that you may have to first examine the table to check variable names."
   ]
  },
  {
   "cell_type": "code",
   "execution_count": null,
   "metadata": {
    "collapsed": false
   },
   "outputs": [],
   "source": [
    "by_region = Table.read_table('naturalizations_by_region.csv')\n",
    "by_region.barh('Region', 'Number of Naturalized People in 2015')"
   ]
  },
  {
   "cell_type": "markdown",
   "metadata": {},
   "source": [
    "As you have more bars in your chart (like we did with the states), it may be helpful to sort the data before you create your visualization. In the cell below, sort the data in whatever order makes the most sense to you and then create a bar chart. Feel free to play around with this!"
   ]
  },
  {
   "cell_type": "code",
   "execution_count": null,
   "metadata": {
    "collapsed": false
   },
   "outputs": [],
   "source": [
    "by_region.sort('Number of Naturalized People in 2015', descending = True).barh('Region', 'Number of Naturalized People in 2015')"
   ]
  },
  {
   "cell_type": "markdown",
   "metadata": {},
   "source": [
    "Personally, we find that sorting in descending order of numerical order makes your bar chart the easiest to understand."
   ]
  },
  {
   "cell_type": "markdown",
   "metadata": {},
   "source": [
    "Now, answer the following question:\n",
    "Does this bar chart suggest that people from Asia are favored more when it comes to naturalization? If not, what other information are we missing?"
   ]
  },
  {
   "cell_type": "markdown",
   "metadata": {},
   "source": [
    "Answer: "
   ]
  },
  {
   "cell_type": "markdown",
   "metadata": {},
   "source": [
    "## Histograms"
   ]
  },
  {
   "cell_type": "markdown",
   "metadata": {},
   "source": [
    "Lastly, we'll be covering histograms. Histograms are similar to bar charts, except they help us visualize proportions as opposed to absolute numbers. First, we'll take a look at a histogram, then we'll talk more about them."
   ]
  },
  {
   "cell_type": "code",
   "execution_count": null,
   "metadata": {
    "collapsed": false
   },
   "outputs": [],
   "source": [
    "naturalizations_by_state.hist('Naturalizations in 2015', bins = np.arange(0, 162501, 12500))"
   ]
  },
  {
   "cell_type": "markdown",
   "metadata": {},
   "source": [
    "Let's note a few things.\n",
    "1. This looks like a bar chart. **It is not**. Histograms cover proportions, whereas bar charts cover counts of things. Furthermore, histograms have different axes. \n",
    "2. The x-axis concerns numerical data that has been broken up into bins. In this case, our x-axis represents the number of naturalizations, and our data has been grouped into bins based on the number of naturalizations (our first bin represents values from 0-12500, our next one goes from 12500-25000, etc).  \n",
    "3. The y-axis is also made up of numerical data, but it's represented as a density scale. Note the units carefully: it represents the percent per unit. We'll go over how to calculate these in further depth in the next cell. \n",
    "4. The areas of all the bars add up to 1. "
   ]
  },
  {
   "cell_type": "markdown",
   "metadata": {},
   "source": [
    "We can think of the data our y-axis is based on as the counts of our bins. In this case, our bins are 0-12500, 12500-25000, etc. The counts of each bin would be the number of states (or more generally, rows in our data frame) for which the number of naturalizations fall into these bins. The cell below has a table showing how many states fall into each bin."
   ]
  },
  {
   "cell_type": "code",
   "execution_count": null,
   "metadata": {
    "collapsed": false
   },
   "outputs": [],
   "source": [
    "bins = naturalizations_by_state.bin('Naturalizations in 2015', bins = np.arange(0, 162501, 12500))\n",
    "bins"
   ]
  },
  {
   "cell_type": "markdown",
   "metadata": {},
   "source": [
    "Note that each bin is only marked by its starting value. So, the row corresponding to bin 0 is actually looking at values from 0-12499. The count column represents the number of states whose number of naturalizations in 2015 falls into the range of the bin."
   ]
  },
  {
   "cell_type": "markdown",
   "metadata": {},
   "source": [
    "### Calculating Heights"
   ]
  },
  {
   "cell_type": "markdown",
   "metadata": {},
   "source": [
    "Now, to calculate the height of each bar. The general formula is as follows:\n",
    "\n",
    "`height = percentage of counts / width of bin`\n",
    "\n",
    "As an example, let's calculate the height of the first bar, corresponding to the first bin. First, let's calculate our percentage of counts. \n",
    "\n",
    "There are 40 values in our first bin, and we have a total of 53 values (we counted for territories in addition to states in this dataset). Then, our percentage of counts = `(40/53) * 100 = 75.471` \n",
    "\n",
    "Now, the width of our bin is 12500, so we'll divide the percentage of counts from the first part by 12500 to get the height of our bin. Our height = `75.471 / 12500 = 0.006`\n",
    "\n",
    "This height is consistent with the height we see on our graph. \n"
   ]
  },
  {
   "cell_type": "markdown",
   "metadata": {},
   "source": [
    "Now, we want you to practice calculating the height of bins. We've created a table for you called bins, which contains the counts in each bin. Add a column to this table called `height of bin` containing the calculated height of bin. Remember, to add a column, use `table.with_column('column name', corresponding_array)`\n",
    "\n",
    "We've provided some skeleton to guide you. You need not use it."
   ]
  },
  {
   "cell_type": "code",
   "execution_count": null,
   "metadata": {
    "collapsed": false
   },
   "outputs": [],
   "source": [
    "count_per_bin = bins.column('Naturalizations in 2015 count')\n",
    "total_territories = 53\n",
    "bin_width = 12500\n",
    "height_per_bin = ((count_per_bin / total_territories) * 100) / bin_width\n",
    "bins.with_column('Height', height_per_bin)"
   ]
  },
  {
   "cell_type": "markdown",
   "metadata": {},
   "source": [
    "Good job! That'll wrap up today's work. Next week, we'll be reviewing histograms and giving you more practice creating your own histograms. Before you leave, please fill out this feedback [survey](."
   ]
  }
 ],
 "metadata": {
  "anaconda-cloud": {},
  "kernelspec": {
   "display_name": "Python [default]",
   "language": "python",
   "name": "python3"
  },
  "language_info": {
   "codemirror_mode": {
    "name": "ipython",
    "version": 3
   },
   "file_extension": ".py",
   "mimetype": "text/x-python",
   "name": "python",
   "nbconvert_exporter": "python",
   "pygments_lexer": "ipython3",
   "version": "3.5.2"
  }
 },
 "nbformat": 4,
 "nbformat_minor": 2
}
