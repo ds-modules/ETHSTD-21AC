{
 "cells": [
  {
   "cell_type": "markdown",
   "metadata": {},
   "source": [
    "# Module 6"
   ]
  },
  {
   "cell_type": "markdown",
   "metadata": {},
   "source": [
    "Welcome to week 6 of our module! This week, we'll be wrapping up all of our new content with some further discussion of histograms, and then we'll be going into mini-projects.\n",
    "\n",
    "Before you start, run the cell below:"
   ]
  },
  {
   "cell_type": "code",
   "execution_count": null,
   "metadata": {
    "collapsed": true
   },
   "outputs": [],
   "source": [
    "from datascience import *\n",
    "import numpy as np\n",
    "# These lines set up graphing capabilities.\n",
    "import matplotlib\n",
    "%matplotlib inline\n",
    "import matplotlib.pyplot as plt\n",
    "plt.style.use('fivethirtyeight')\n",
    "import warnings\n",
    "warnings.simplefilter('ignore', FutureWarning)"
   ]
  },
  {
   "cell_type": "markdown",
   "metadata": {},
   "source": [
    "## Histograms"
   ]
  },
  {
   "cell_type": "markdown",
   "metadata": {},
   "source": [
    "Please work on this section with a partner. It's very important that you work on a partner on the first part so you both are on the same page when you start the mini-project."
   ]
  },
  {
   "cell_type": "markdown",
   "metadata": {},
   "source": [
    "Now, we're going to practice making histograms of our own. First, open the data table `private_prisoners.csv`. This data table gives us the number of prisoners held in private prisons by state."
   ]
  },
  {
   "cell_type": "code",
   "execution_count": null,
   "metadata": {},
   "outputs": [],
   "source": [
    "private_prisoners = ...\n",
    "private_prisoners"
   ]
  },
  {
   "cell_type": "markdown",
   "metadata": {},
   "source": [
    "Now, here's the syntax to create a histogram: \n",
    "\n",
    "`table_name.hist('Column we want as our data')`\n",
    "\n",
    "In the cell below, create a histogram of the number of prisoners held in private prisons."
   ]
  },
  {
   "cell_type": "code",
   "execution_count": null,
   "metadata": {},
   "outputs": [],
   "source": []
  },
  {
   "cell_type": "markdown",
   "metadata": {},
   "source": [
    "Based on the above histogram, answer the following questions:\n",
    "1. Approximately what is the binwidth? \n",
    "2. What percent of states have between 0 and approximately 1500 prisoners held in private prisons? You may assume that the height of the first bin is 0.05. \n",
    "3. Knowing that there are 50 states, how many states have between 0 and approximately 1500 prisoners held in private prisons? \n",
    "4. How many states have between 0 and approximately 3000 prisoners held in private prisons? "
   ]
  },
  {
   "cell_type": "markdown",
   "metadata": {},
   "source": [
    "Answers: \n",
    "1. \n",
    "2. \n",
    "3. \n",
    "4. "
   ]
  },
  {
   "cell_type": "markdown",
   "metadata": {},
   "source": [
    "Now, these bins aren't as helpful as they could be. Most of our values lie in our first bucket, and we don't know much about the distribution of the values in our first bucket. \n",
    "\n",
    "Lucky for us, we can change the binwidths manually so we get more information about the data. The `hist` function has an optional `bins` argument, where we can specify what we want our bins to be. \n",
    "\n",
    "Here's the syntax: \n",
    "`table_name.hist('Column of interest', bins=array_with_bin_values)`\n",
    "\n",
    "Below is an example:"
   ]
  },
  {
   "cell_type": "code",
   "execution_count": null,
   "metadata": {},
   "outputs": [],
   "source": [
    "private_prisoners.hist('Number of Prisoners Held in Private Prisons', bins = make_array(0, 3000, 10000, 14001))"
   ]
  },
  {
   "cell_type": "markdown",
   "metadata": {},
   "source": [
    "However, these bins aren't very helpful, and they don't solve our problem. Below, create bins of your own that help us better examine this data. Then, create your histogram with these bins."
   ]
  },
  {
   "cell_type": "code",
   "execution_count": null,
   "metadata": {
    "collapsed": true
   },
   "outputs": [],
   "source": [
    "bins = make_array(...)\n"
   ]
  },
  {
   "cell_type": "markdown",
   "metadata": {},
   "source": [
    "## Mini Project"
   ]
  },
  {
   "cell_type": "markdown",
   "metadata": {},
   "source": [
    "Good job! We've now gone over everything we'll need to create our own visualizations and analyses!\n",
    "\n",
    "For this part of the notebook, work with a partner and the datasets given to answer one of the following questions. You may also come up with your own question based on the the datasets.\n",
    "Note: You will likely have to do additional research about your topic. Be sure to explore both datasets before starting so you know which table will be more useful for you.\n",
    "\n",
    "Potential Questions:\n",
    "1. Examine the trends by race for drug charges. Do these trends reflect the trends in drug crimes committed? \n",
    "2. Which crimes are prisoners charged for most often? Are these the crimes that have been committed most often?\n",
    "3. How have the number of state and federal prisoners changed over time? What does this reflect about our prison system?\n",
    "\n",
    "Potential Datasets: \n",
    "1. `number_of_prisoners.csv`\n",
    "2. `crime_type_race.csv`\n",
    "\n",
    "In the cells below, create tables, visualizations, and anything else you may need to answer this question. You have until 4:55 to finish these projects. After that, you'll be pairing up with another group and presenting your findings to one another."
   ]
  },
  {
   "cell_type": "code",
   "execution_count": null,
   "metadata": {
    "collapsed": true
   },
   "outputs": [],
   "source": []
  }
 ],
 "metadata": {
  "anaconda-cloud": {},
  "kernelspec": {
   "display_name": "Python 3",
   "language": "python",
   "name": "python3"
  },
  "language_info": {
   "codemirror_mode": {
    "name": "ipython",
    "version": 3
   },
   "file_extension": ".py",
   "mimetype": "text/x-python",
   "name": "python",
   "nbconvert_exporter": "python",
   "pygments_lexer": "ipython3",
   "version": "3.6.1"
  }
 },
 "nbformat": 4,
 "nbformat_minor": 2
}
