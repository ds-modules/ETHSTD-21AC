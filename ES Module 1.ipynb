{
 "cells": [
  {
   "cell_type": "markdown",
   "metadata": {},
   "source": [
    "# Lab 1 - Basic Python Tutorial\n",
    "\n",
    "\n",
    "Modified from EE 126 LAB01 http://inst.eecs.berkeley.edu/~ee127\n",
    "\n",
    "## General Jupyter Notebook usage instructions (overview)\n",
    "\n",
    "- Start by clicking `Help >> User Interface Tour` to get yourself familiar with the Jupyter Notebook environment.\n",
    "- To save your notebook, either select `\"File >> Save and Checkpoint\"` or hit `Command-s` for Mac and `Ctrl-s` for Windows.\n",
    "- To undo edits within a cell, hit `Command-z` for Mac and `Ctrl-z` for Windows.\n",
    "- `Help >> Keyboard Shortcuts` has a list of all useful keyboard shortcuts.\n",
    "- The `Help` menu also has links to many reference docs you may find useful this semester (e.g. Markdown, Python, NumPy, Matplotlib, SciPy)."
   ]
  },
  {
   "cell_type": "markdown",
   "metadata": {},
   "source": [
    "## Jupyter Notebooks"
   ]
  },
  {
   "cell_type": "code",
   "execution_count": null,
   "metadata": {
    "collapsed": true
   },
   "outputs": [],
   "source": [
    "# This is a code cell"
   ]
  },
  {
   "cell_type": "markdown",
   "metadata": {},
   "source": [
    "Each section in this notebook is referred to as a cell. A cell can take on various forms, and can include headings, text, and code. \n",
    "\n",
    "In order to edit a cell, double click it, then type whatever text you'd like. If you want to create a new cell, click the `plus` button or select `Insert >> Insert New Cell Below`.\n",
    "\n",
    "Once you're done typing into a cell, click run to save your changes. The shortcut for this is `shift-enter`. "
   ]
  },
  {
   "cell_type": "markdown",
   "metadata": {},
   "source": [
    "<div class=\"alert alert-info\">\n",
    "**Exercise 1**: Add a cell below this that says \"I made my own cell!\" In order to have text in your cell, click `Markdown` from the dropdown menu.\n",
    "</div>"
   ]
  },
  {
   "cell_type": "markdown",
   "metadata": {},
   "source": [
    "Remember, once you're done typing in your cell, click the `run` button. "
   ]
  },
  {
   "cell_type": "markdown",
   "metadata": {},
   "source": [
    "Now that we know how to add text to our cells, let's practice adding headers. You can add headers (like the one above that says \"Jupyter Notebooks\" by preceding your text with `#` signs and a space. The more `#` signs you add, the smaller the header will become. We refer to the level of the header as the number of `#` in front of the text. "
   ]
  },
  {
   "cell_type": "markdown",
   "metadata": {},
   "source": [
    "<div class=\"alert alert-info\">\n",
    "**Exercise 2**: Try creating another cell underneath and adding a level three header that says *Practicing with Cells*. For headers, we will still be using `Markdown`. Again, remember to hit `run` when you're done.\n",
    "</div>"
   ]
  },
  {
   "cell_type": "markdown",
   "metadata": {},
   "source": [
    "The last big thing we're going to do with our Jupyter notebooks is add code. When you add code to a cell and click run, the Jupyter notebook will automatically run the code and display the results below. "
   ]
  },
  {
   "cell_type": "markdown",
   "metadata": {},
   "source": [
    "<div class=\"alert alert-info\">\n",
    "**Exercise 3**: In the following text below, add \"Hello, world!\" where we currently have `____`. Be sure to include the quotes. After you run your code, you should see the text \"Hello, world!\" printed below. We'll go over how this works later in this notebook.  \n",
    "</div>"
   ]
  },
  {
   "cell_type": "code",
   "execution_count": 1,
   "metadata": {
    "collapsed": false
   },
   "outputs": [
    {
     "name": "stdout",
     "output_type": "stream",
     "text": [
      "\n"
     ]
    }
   ],
   "source": [
    "print(___)"
   ]
  },
  {
   "cell_type": "markdown",
   "metadata": {},
   "source": [
    "Run the code below. Notice that when you have multiple print statements in a block of code, the Jupyter notebook will run all of them."
   ]
  },
  {
   "cell_type": "code",
   "execution_count": 2,
   "metadata": {
    "collapsed": false
   },
   "outputs": [
    {
     "name": "stdout",
     "output_type": "stream",
     "text": [
      "This is\n",
      "a cool\n",
      "notebook.\n"
     ]
    }
   ],
   "source": [
    "print(\"This is\")\n",
    "print(\"a cool\")\n",
    "print(\"notebook.\")"
   ]
  },
  {
   "cell_type": "markdown",
   "metadata": {},
   "source": [
    "## Data Types in Python"
   ]
  },
  {
   "cell_type": "markdown",
   "metadata": {},
   "source": [
    "There are a few different kinds of data types we'll be working with in Python. The most basic of these data types are integers and strings. "
   ]
  },
  {
   "cell_type": "markdown",
   "metadata": {},
   "source": [
    "### Strings"
   ]
  },
  {
   "cell_type": "markdown",
   "metadata": {},
   "source": [
    "Strings are like sentences in Python. They can contain letters, numbers, and special characters. All strings are surrounded by quotes (it doesn't matter whether they're double quotes or single quotes). "
   ]
  },
  {
   "cell_type": "code",
   "execution_count": 3,
   "metadata": {
    "collapsed": false
   },
   "outputs": [
    {
     "data": {
      "text/plain": [
       "'This is a string'"
      ]
     },
     "execution_count": 3,
     "metadata": {},
     "output_type": "execute_result"
    }
   ],
   "source": [
    "\"This is a string\""
   ]
  },
  {
   "cell_type": "markdown",
   "metadata": {},
   "source": [
    "Strings can also be combined, or concatenated, using the `+` operator. Run the code below to see what happens when you concatenate strings. "
   ]
  },
  {
   "cell_type": "code",
   "execution_count": 4,
   "metadata": {
    "collapsed": false
   },
   "outputs": [
    {
     "data": {
      "text/plain": [
       "'This is also a string.'"
      ]
     },
     "execution_count": 4,
     "metadata": {},
     "output_type": "execute_result"
    }
   ],
   "source": [
    "\"This \" + \"is also \" + \"a string.\""
   ]
  },
  {
   "cell_type": "markdown",
   "metadata": {},
   "source": [
    "### Integers and Floats"
   ]
  },
  {
   "cell_type": "markdown",
   "metadata": {},
   "source": [
    "Integers and floats represent numbers. Integers contain whole numbers, while floats contain decimals. "
   ]
  },
  {
   "cell_type": "markdown",
   "metadata": {},
   "source": [
    "Here are a few arithmetic commands you might find useful: \n",
    "- `+` adds numbers (ex: `2 + 2` will return 4)\n",
    "- `-` subtracts numbers (ex: `2 - 2` will return 0)\n",
    "- `*` multiplies numbers (ex: `2 * 2 * 2` will return 8)\n",
    "- `/` will divide numbers (ex: `2 / 2` will return 1)\n",
    "- `//` will floor divide numbers, which means it'll round the answer to the nearest whole number (ex: `5 // 2` will return 2)\n",
    "- `%` will return the remainder of two numbers (ex: `5 % 2` will return 1)\n",
    "- `**` exponentiates numbers (ex: `3 ** 2` will return 9)\n",
    "\n",
    "Feel free to try them out in the cell underneath. \n"
   ]
  },
  {
   "cell_type": "code",
   "execution_count": null,
   "metadata": {
    "collapsed": false
   },
   "outputs": [],
   "source": []
  },
  {
   "cell_type": "markdown",
   "metadata": {},
   "source": [
    "Note: `4` is not the same as `\"4\"`. Remember, anything with quotes around it is a string. What do you expect `\"4\" + \"4\"` to return? Run the cell below to find out. "
   ]
  },
  {
   "cell_type": "code",
   "execution_count": 5,
   "metadata": {
    "collapsed": false
   },
   "outputs": [
    {
     "data": {
      "text/plain": [
       "'44'"
      ]
     },
     "execution_count": 5,
     "metadata": {},
     "output_type": "execute_result"
    }
   ],
   "source": [
    "\"4\" + \"4\""
   ]
  },
  {
   "cell_type": "markdown",
   "metadata": {},
   "source": [
    "## Variables"
   ]
  },
  {
   "cell_type": "markdown",
   "metadata": {},
   "source": [
    "In Python, you can create variables to hold values and objects for you. This is especially useful when you want to save some data for later. We can use the equal sign to assign a value to a variable. \n",
    "\n",
    "The syntax for this is as follows:\n",
    "`variable_name` = `value`"
   ]
  },
  {
   "cell_type": "code",
   "execution_count": 6,
   "metadata": {
    "collapsed": false
   },
   "outputs": [
    {
     "data": {
      "text/plain": [
       "54"
      ]
     },
     "execution_count": 6,
     "metadata": {},
     "output_type": "execute_result"
    }
   ],
   "source": [
    "x = 54\n",
    "x"
   ]
  },
  {
   "cell_type": "markdown",
   "metadata": {},
   "source": [
    "Try running the code below. You'll see that if you try to assign variables in the opposite order, Python will give you an error message. "
   ]
  },
  {
   "cell_type": "code",
   "execution_count": 7,
   "metadata": {
    "collapsed": false
   },
   "outputs": [
    {
     "ename": "SyntaxError",
     "evalue": "can't assign to literal (<ipython-input-7-67c5a939a921>, line 1)",
     "output_type": "error",
     "traceback": [
      "\u001b[0;36m  File \u001b[0;32m\"<ipython-input-7-67c5a939a921>\"\u001b[0;36m, line \u001b[0;32m1\u001b[0m\n\u001b[0;31m    54 = x\u001b[0m\n\u001b[0m          ^\u001b[0m\n\u001b[0;31mSyntaxError\u001b[0m\u001b[0;31m:\u001b[0m can't assign to literal\n"
     ]
    }
   ],
   "source": [
    "54 = x"
   ]
  },
  {
   "cell_type": "markdown",
   "metadata": {},
   "source": [
    "We can also do more complicated things with variables, like run functions on them. "
   ]
  },
  {
   "cell_type": "code",
   "execution_count": null,
   "metadata": {
    "collapsed": true
   },
   "outputs": [],
   "source": [
    "x = 10\n",
    "y = 25\n",
    "z = x + y\n",
    "z"
   ]
  },
  {
   "cell_type": "markdown",
   "metadata": {},
   "source": [
    "In the above example, we set x to 10. Now, whenever we refer to x, it will always represent the value 10. What if we reassign x? Run the code below to find out what happens."
   ]
  },
  {
   "cell_type": "code",
   "execution_count": null,
   "metadata": {
    "collapsed": true
   },
   "outputs": [],
   "source": [
    "x = 10\n",
    "x = \"hello\"\n",
    "x"
   ]
  },
  {
   "cell_type": "markdown",
   "metadata": {},
   "source": [
    "Variables can only hold one value, and they'll always hold their last assigned value. Be careful when you name your variables so you're not accidentally overriding previous variables. Also, try to make your names as helpful as possible so it's easy to figure out what exactly a variable is representing. \n",
    "\n",
    "Here are some naming rules:\n",
    "- Variable names must start with either a letter or an underscore. Variable names cannot start with numbers or other characters. \n",
    "- The rest of your variable name can include letters, numbers, and/or underscores. It may not include any spaces.\n",
    "- Names are case sensitive."
   ]
  },
  {
   "cell_type": "markdown",
   "metadata": {},
   "source": [
    "<div class=\"alert alert-info\">\n",
    "**Exercise 4**: In the cell below, try assigning the value \"Go \" to a variable named `first` and \"Bears\" to a variable named `second`. Now, add them together and assign the result to another variable, `total`. What is the value of `total`?\n",
    "</div>"
   ]
  },
  {
   "cell_type": "code",
   "execution_count": null,
   "metadata": {
    "collapsed": true
   },
   "outputs": [],
   "source": []
  },
  {
   "cell_type": "markdown",
   "metadata": {},
   "source": [
    "<div class=\"alert alert-info\">\n",
    "**Exercise 5**: Steph Curry scores an average of 25.6 points per game, Draymond Green scores an average of 10.5 points per game, and Kevin Durant averages 28.3 points per game. Assign each player's average points to a variable (be sure to make the variable name descriptive), then calculate the average and save it as another variable. How many points do they score per game on average?\n",
    "</div>"
   ]
  },
  {
   "cell_type": "code",
   "execution_count": null,
   "metadata": {
    "collapsed": true
   },
   "outputs": [],
   "source": []
  },
  {
   "cell_type": "markdown",
   "metadata": {},
   "source": [
    "## Calling Functions"
   ]
  },
  {
   "cell_type": "markdown",
   "metadata": {},
   "source": [
    "The most common way to manipulate data is by calling a function on it. Python has many built-in functions, such as `print`, which prints text to a console. \n",
    "\n",
    "```python\n",
    "print(\"Hello\")\n",
    "```\n",
    "\n",
    "There are a few different parts of a function: \n",
    "1. The name of the function. In the above case, `print` is the name of the function. \n",
    "2. The arguments of a function. Anything in the parentheses after a function name is an argument. Above, `\"Hello\"` is an argument. Multiple arguments can be separated by commas. \n",
    "\n",
    "In order to call a function, just type the function's name, then include all arguments you need in the parentheses. \n",
    "\n",
    "What do you think the code below will do? Run it to find out."
   ]
  },
  {
   "cell_type": "code",
   "execution_count": null,
   "metadata": {
    "collapsed": false
   },
   "outputs": [],
   "source": [
    "min(4, 3, 5, 8)"
   ]
  },
  {
   "cell_type": "markdown",
   "metadata": {},
   "source": [
    "Note that our arguments need not strictly be simple values. We can also run min as follows:"
   ]
  },
  {
   "cell_type": "code",
   "execution_count": null,
   "metadata": {
    "collapsed": false
   },
   "outputs": [],
   "source": [
    "min(8 - 4, 3 ** 2, 6 // 4)"
   ]
  },
  {
   "cell_type": "markdown",
   "metadata": {},
   "source": [
    "The min function takes in as many integer arguments as you'd like, and returns the minimum value out of all of them. Be careful though, some functions will require a certain number of arguments. If you ever want more information about a function, like what it does and what its arguments are, type the function name (remember, the name does not include the parentheses after) followed by `?` and run the cell to return a help window."
   ]
  },
  {
   "cell_type": "code",
   "execution_count": null,
   "metadata": {
    "collapsed": true
   },
   "outputs": [],
   "source": [
    "min?"
   ]
  },
  {
   "cell_type": "markdown",
   "metadata": {},
   "source": [
    "We can also nest functions. For example, see what the following function returns. "
   ]
  },
  {
   "cell_type": "code",
   "execution_count": null,
   "metadata": {
    "collapsed": true
   },
   "outputs": [],
   "source": [
    "min(max(5, 6), 6 - 7, min(10, 8))"
   ]
  },
  {
   "cell_type": "markdown",
   "metadata": {},
   "source": [
    "In this case, Python will evaluate each part separately. First, it'll evaluate `max(5, 6)`, then it'll evaluate `6 - 7`, and lastly, it'll evaluate `min(10, 8)`. Then, it'll put all of these back into the outer function to evaluate."
   ]
  },
  {
   "cell_type": "markdown",
   "metadata": {},
   "source": [
    "<div class=\"alert alert-info\">\n",
    "**Example 6**: Oski walks from 6th street to 1st street, and then from 24th avenue to 26th avenue. Each street is a total of 50 feet long, and each avenue is a total of 100 feet long. Fill in the blanks code below to find out how far he walked in total. When possible, try to use variable names instead of values. The `abs` function takes in a single argument and returns the absolute value. \n",
    "</div>"
   ]
  },
  {
   "cell_type": "code",
   "execution_count": null,
   "metadata": {
    "collapsed": true
   },
   "outputs": [],
   "source": [
    "feet_per_street = ___\n",
    "feet_per_avenue = ___\n",
    "num_streets = abs(__ - __)\n",
    "num_avenue = abs(__ - __)\n",
    "street_dist = ____ * ____\n",
    "avenue_dist = ____ * ____\n",
    "total_dist = ___ + ___\n",
    "total_dist"
   ]
  },
  {
   "cell_type": "markdown",
   "metadata": {},
   "source": [
    "<div class=\"alert alert-info\">\n",
    "**Example 7**: The average human is 5.4 feet tall. Taylor is 6.2 feet tall, Sam weighs 4.7 feet tall, and Alex is 1.5 feet taller than Sam. Out of these three heights, which is the furthest from average? Fill out the blanks in the code below to find out. Try to calculate `furthest_from_average` in one line of code. Again, use variables wherever possible as opposed to their actual values.\n",
    "</div>"
   ]
  },
  {
   "cell_type": "code",
   "execution_count": null,
   "metadata": {
    "collapsed": true
   },
   "outputs": [],
   "source": [
    "average_height = ___\n",
    "taylor_height = ___\n",
    "sam_height = ___\n",
    "alex_height = ___\n",
    "furthest_from_average = __________________________________\n",
    "furthest_from_average"
   ]
  }
 ],
 "metadata": {
  "anaconda-cloud": {},
  "kernelspec": {
   "display_name": "Python [default]",
   "language": "python",
   "name": "python3"
  },
  "language_info": {
   "codemirror_mode": {
    "name": "ipython",
    "version": 3
   },
   "file_extension": ".py",
   "mimetype": "text/x-python",
   "name": "python",
   "nbconvert_exporter": "python",
   "pygments_lexer": "ipython3",
   "version": "3.5.2"
  }
 },
 "nbformat": 4,
 "nbformat_minor": 0
}
