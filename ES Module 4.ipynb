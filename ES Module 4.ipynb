{
 "cells": [
  {
   "cell_type": "markdown",
   "metadata": {
    "deletable": true,
    "editable": true
   },
   "source": [
    "# ES Module 4"
   ]
  },
  {
   "cell_type": "markdown",
   "metadata": {
    "deletable": true,
    "editable": true
   },
   "source": [
    "Welcome back! As a reminder, last week, we went over creating and filtering tables. If you don't feel comfortable with tables yet, please go back and review them, as we'll continue to use them for this module.\n",
    "\n",
    "This week, we'll be reviewing filtering and going over data visualizations. \n",
    "\n",
    "For this module, please continue to work in pairs.\n",
    "\n",
    "Before starting, run the cell below to load the data science libraries."
   ]
  },
  {
   "cell_type": "code",
   "execution_count": null,
   "metadata": {
    "collapsed": false,
    "deletable": true,
    "editable": true
   },
   "outputs": [],
   "source": [
    "from datascience import *\n",
    "import numpy as np\n",
    "# These lines set up graphing capabilities.\n",
    "import matplotlib\n",
    "%matplotlib inline\n",
    "import matplotlib.pyplot as plt\n",
    "plt.style.use('fivethirtyeight')\n",
    "import warnings\n",
    "warnings.simplefilter('ignore', FutureWarning)"
   ]
  },
  {
   "cell_type": "markdown",
   "metadata": {
    "deletable": true,
    "editable": true
   },
   "source": [
    "## Filtering"
   ]
  },
  {
   "cell_type": "markdown",
   "metadata": {
    "deletable": true,
    "editable": true
   },
   "source": [
    "As a reminder, here is the general form for filtering: \n",
    "\n",
    "`some_table.where('column_name', predicate(arg))`\n",
    "\n",
    "* `some_table` refers to the name of your table.\n",
    "* `column_name` is the column you're referring to\n",
    "* `predicate` is the predicate you're using (you can find the list of predicates by running the cell below). \n",
    "* `arg` is the argument your predicate takes. More details about this too when you run the below cell."
   ]
  },
  {
   "cell_type": "code",
   "execution_count": null,
   "metadata": {
    "collapsed": false,
    "deletable": true,
    "editable": true
   },
   "outputs": [],
   "source": [
    "functions = make_array('are.equal_to(Z)', 'are.above(x)', 'are.above_or_equal_to(x)', 'are.below(x)', \n",
    "                       'are.below_or_equal_to(x)', 'are.between(x, y)', 'are.strictly_between(x, y)',\n",
    "                      'are.between_or_equal_to(x, y)', 'are.containing(S)')\n",
    "descriptions = make_array('Equal to Z', 'Greater than x', 'Greater than or equal to x', 'Below x', \n",
    "                         'Less than or equal to x', 'Greater than or equal to x, and less than y',\n",
    "                         'Greater than x and less than y', 'Greater than or equal to x, and less than or equal to y',\n",
    "                         'Contains the string S')\n",
    "predicates = Table().with_columns('Predicate', functions,\n",
    "                                 'Description', descriptions)\n",
    "predicates"
   ]
  },
  {
   "cell_type": "markdown",
   "metadata": {
    "deletable": true,
    "editable": true
   },
   "source": [
    "Below, load the data table `state_incarceration.csv`. We'll primarily be working with this data set. "
   ]
  },
  {
   "cell_type": "code",
   "execution_count": null,
   "metadata": {
    "collapsed": false,
    "deletable": true,
    "editable": true
   },
   "outputs": [],
   "source": [
    "state_incarceration = \n",
    "state_incarceration"
   ]
  },
  {
   "cell_type": "markdown",
   "metadata": {
    "deletable": true,
    "editable": true
   },
   "source": [
    "Now, run the following cell to clean the data."
   ]
  },
  {
   "cell_type": "code",
   "execution_count": null,
   "metadata": {
    "collapsed": false,
    "deletable": true,
    "editable": true
   },
   "outputs": [],
   "source": [
    "# filtering\n",
    "def string_to_int(val):\n",
    "    return int(val.replace(',', ''))\n",
    "\n",
    "state_incarceration = state_incarceration.with_columns('State', state_incarceration.column('State'),\n",
    "                                                       'Population', state_incarceration.column('Population'),\n",
    "                                                       'Total Incarcerated', state_incarceration.apply(string_to_int, 'Total Incarcerated'),\n",
    "                                                       'Incarcerated Males', state_incarceration.apply(string_to_int, 'Incarcerated Males'),\n",
    "                                                       'Incarcerated Females', state_incarceration.apply(string_to_int, 'Incarcerated Females'))\n",
    "state_incarceration"
   ]
  },
  {
   "cell_type": "markdown",
   "metadata": {
    "deletable": true,
    "editable": true
   },
   "source": [
    "Now, in the following cell, filter `state_incarceration` so it only has states for which the total incarcerated population exceeds 50,000 and save it to `incarcerated_above_50000`."
   ]
  },
  {
   "cell_type": "code",
   "execution_count": null,
   "metadata": {
    "collapsed": false,
    "deletable": true,
    "editable": true
   },
   "outputs": [],
   "source": [
    "incarcerated_above_50000 = \n",
    "incarcerated_above_50000"
   ]
  },
  {
   "cell_type": "markdown",
   "metadata": {
    "deletable": true,
    "editable": true
   },
   "source": [
    "What proportion (percentage) of states have a total incarcerated population of above 50000? Try to use python methods to figure out the answer (don't count cells!). Write your answer in the following cell. "
   ]
  },
  {
   "cell_type": "code",
   "execution_count": null,
   "metadata": {
    "collapsed": false,
    "deletable": true,
    "editable": true
   },
   "outputs": [],
   "source": [
    "proportion = "
   ]
  },
  {
   "cell_type": "markdown",
   "metadata": {
    "deletable": true,
    "editable": true
   },
   "source": [
    "Now, filter the data so it only has states where the population is below 5,000,000. "
   ]
  },
  {
   "cell_type": "code",
   "execution_count": null,
   "metadata": {
    "collapsed": false,
    "deletable": true,
    "editable": true
   },
   "outputs": [],
   "source": [
    "low_population = \n",
    "low_population"
   ]
  },
  {
   "cell_type": "markdown",
   "metadata": {
    "deletable": true,
    "editable": true
   },
   "source": [
    "Lastly, filter the data so it only contains states where the proportion of the incarcerated population over the population is more than 0.006. \n",
    "\n",
    "(Hint: You may need to add another column to your table. To add another column to your table, use the following command:\n",
    "\n",
    "`some_table.with_column('Column Name', corresponding_array)`\n",
    "\n",
    "where `some_table` is a table that already exists). "
   ]
  },
  {
   "cell_type": "code",
   "execution_count": null,
   "metadata": {
    "collapsed": false,
    "deletable": true,
    "editable": true
   },
   "outputs": [],
   "source": []
  },
  {
   "cell_type": "markdown",
   "metadata": {
    "deletable": true,
    "editable": true
   },
   "source": [
    "Now, find the states in which the proportion of incarcerated females to incarcerated males is between 0.1 and 0.12, inclusive. "
   ]
  },
  {
   "cell_type": "code",
   "execution_count": null,
   "metadata": {
    "collapsed": false,
    "deletable": true,
    "editable": true
   },
   "outputs": [],
   "source": []
  },
  {
   "cell_type": "markdown",
   "metadata": {},
   "source": [
    "Good job! We have learned how to filter our data. Filtering is quite important since without it we wouldn't be able to work on our data. The datascience library gives you a tool to efficiently clean and convert your data, don't take it for granted (it's really a pain without it)."
   ]
  },
  {
   "cell_type": "markdown",
   "metadata": {
    "deletable": true,
    "editable": true
   },
   "source": [
    "## Visualizations"
   ]
  },
  {
   "cell_type": "markdown",
   "metadata": {
    "deletable": true,
    "editable": true
   },
   "source": [
    "Hurray for Visualizations! Now we'll be working on the showy part of data sciece.\n",
    "\n",
    "Visualisation is a cruicial component of data science for great many reasons, but probably the most important reason is - It is the easiest way for humans to detect patterns and trends. We will start off with basic graphs such as bar charts and scatter plots, and advance to more complex graphs in the following modules so hang tight."
   ]
  },
  {
   "cell_type": "markdown",
   "metadata": {
    "deletable": true,
    "editable": true
   },
   "source": [
    "### Bar Charts"
   ]
  },
  {
   "cell_type": "markdown",
   "metadata": {
    "deletable": true,
    "editable": true
   },
   "source": [
    "Bar charts are useful tools for visualizing categorical data. For example, the following bar chart shows information about the incarcerated population per state. "
   ]
  },
  {
   "cell_type": "code",
   "execution_count": null,
   "metadata": {
    "collapsed": false,
    "deletable": true,
    "editable": true
   },
   "outputs": [],
   "source": [
    "state_incarceration.bar('State', 'Total Incarcerated')"
   ]
  },
  {
   "cell_type": "markdown",
   "metadata": {
    "collapsed": true,
    "deletable": true,
    "editable": true
   },
   "source": [
    "This visualization give us a lot of informations, for example we can instantly see here that there are 3 states with over 100000 incarcerated people, and all three of them rise above the 150000 lines too, which could indicate a much stricter policy than all other states. "
   ]
  },
  {
   "cell_type": "markdown",
   "metadata": {},
   "source": [
    "Lets try to make this bar chart slightly more informative by focusin on specific states. Please plot a bar chart using the variable you created earlier `incarcerated_above_50000` so we can see some more trends."
   ]
  },
  {
   "cell_type": "code",
   "execution_count": null,
   "metadata": {
    "collapsed": false
   },
   "outputs": [],
   "source": [
    "# plot incarcerated_above_50000"
   ]
  },
  {
   "cell_type": "markdown",
   "metadata": {},
   "source": [
    "This is slightly more convenient to the eye, but we are still overpopulating the graph. Lets try again, please make a new variable 'incarcerated_above_100000' which will hold all the states with more than 100,000 people."
   ]
  },
  {
   "cell_type": "code",
   "execution_count": null,
   "metadata": {
    "collapsed": false
   },
   "outputs": [],
   "source": [
    "incarcerated_above_100000 ="
   ]
  },
  {
   "cell_type": "markdown",
   "metadata": {},
   "source": [
    "Now lets plot and see. Plot a bar chart with the above variable in the next cell."
   ]
  },
  {
   "cell_type": "code",
   "execution_count": null,
   "metadata": {
    "collapsed": false
   },
   "outputs": [],
   "source": [
    "# plot incarcerated_above_100000"
   ]
  },
  {
   "cell_type": "markdown",
   "metadata": {},
   "source": [
    "Now we can see all the states of interest. Were you suprised to see California as the second highest (by 3%) incarcerated state? So were we. Lets investigate!"
   ]
  },
  {
   "cell_type": "markdown",
   "metadata": {},
   "source": [
    "### Scatter Plots"
   ]
  },
  {
   "cell_type": "markdown",
   "metadata": {},
   "source": [
    "Scatter plots are useful in order to see the distribution of the data (If you don't know what that means exactly, don't worry you'll find out quite soon). Essentially, we wish to see how the data is `scattered`, thus we plot the every data point as a real point on a graph! Let's try:"
   ]
  },
  {
   "cell_type": "code",
   "execution_count": null,
   "metadata": {
    "collapsed": false
   },
   "outputs": [],
   "source": [
    "state_incarceration.scatter('Population', 'Total Incarcerated')"
   ]
  },
  {
   "cell_type": "markdown",
   "metadata": {},
   "source": [
    "Ain't that a beaute? The data is distributed in such a way (line) that allows us to comfortably infer that the increase in size correlates with increase in increase of incarcerated. "
   ]
  },
  {
   "cell_type": "markdown",
   "metadata": {},
   "source": [
    "Let's try to get some more focused information. Please plot the scatter plot of `incarcerated_above_50000`."
   ]
  },
  {
   "cell_type": "code",
   "execution_count": null,
   "metadata": {
    "collapsed": false
   },
   "outputs": [],
   "source": [
    "# plot incarcerated_above_50000"
   ]
  },
  {
   "cell_type": "markdown",
   "metadata": {},
   "source": [
    "In this case, plotting a more focused view of the data doesn't give us much more information. It is important to notice that scatter plots are good for getting intuition about a larger quantities of data or the total distribution of some data set you work on. Thus, we need another type of graph so really understand what's going on!"
   ]
  },
  {
   "cell_type": "markdown",
   "metadata": {},
   "source": [
    "### Line Graph "
   ]
  },
  {
   "cell_type": "markdown",
   "metadata": {},
   "source": [
    "Line graphs are great, they let you see exactly how the data points connect, implying how the information 'develops'. Here, as we already statee, there is a steady increase of inmates reltive to population size. Let's see how it develops more precisely:"
   ]
  },
  {
   "cell_type": "code",
   "execution_count": null,
   "metadata": {
    "collapsed": false
   },
   "outputs": [],
   "source": [
    "state_incarceration.plot('Population', 'Total Incarcerated')"
   ]
  },
  {
   "cell_type": "markdown",
   "metadata": {},
   "source": [
    "This is slightly weird shape indeed, but it still moves in a clear trend which assures our assertions. Still, we haven't gotten to the bottom of our previously stated conundrum, why is California up there? Please line plot the variable  `incarcerated_above_50000` to get a more focused view once more."
   ]
  },
  {
   "cell_type": "code",
   "execution_count": null,
   "metadata": {
    "collapsed": false
   },
   "outputs": [],
   "source": [
    "#plot here"
   ]
  },
  {
   "cell_type": "markdown",
   "metadata": {},
   "source": [
    "Huh, an interesting shape! What do you think it implies? Maybe a different approach could help.\n",
    "Let's make a new variable called `high_population` with states that contain above 15000000 people and line plot the population against the total incarcerated!"
   ]
  },
  {
   "cell_type": "code",
   "execution_count": null,
   "metadata": {
    "collapsed": false
   },
   "outputs": [],
   "source": [
    "high_population = \n",
    "#plot here"
   ]
  },
  {
   "cell_type": "markdown",
   "metadata": {},
   "source": [
    "Well, the plot hasn't really changed much. Sometimes this happens, we can't deduct too much information with the tools we currently have, that's why we must learn more advanced tools in the next modules!"
   ]
  },
  {
   "cell_type": "markdown",
   "metadata": {},
   "source": [
    "Before we finish, it is important that you notice one thing, if you look at the last `subline`, the one that has a negative slope (decrease in total incarcerated population), you can see that compared to Florida and Texas, California is relatively shy on the numbers of incarcerated people. Keep in mind though that it is only compared to those two states. We will investigate more in the following modules, see you next time!\n",
    "\n",
    "Before you leave, please fill out [this survey](https://docs.google.com/a/berkeley.edu/forms/d/1KQHzw-rh_E--lnQ7ItLrOcH7WJUTexDiKMLcuPwClzo/edit). "
   ]
  },
  {
   "cell_type": "code",
   "execution_count": null,
   "metadata": {
    "collapsed": true
   },
   "outputs": [],
   "source": []
  }
 ],
 "metadata": {
  "anaconda-cloud": {},
  "kernelspec": {
   "display_name": "Python [default]",
   "language": "python",
   "name": "python3"
  },
  "language_info": {
   "codemirror_mode": {
    "name": "ipython",
    "version": 3
   },
   "file_extension": ".py",
   "mimetype": "text/x-python",
   "name": "python",
   "nbconvert_exporter": "python",
   "pygments_lexer": "ipython3",
   "version": "3.5.2"
  }
 },
 "nbformat": 4,
 "nbformat_minor": 2
}
